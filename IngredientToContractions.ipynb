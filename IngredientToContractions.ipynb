{
 "cells": [
  {
   "cell_type": "markdown",
   "metadata": {},
   "source": [
    "### Imports"
   ]
  },
  {
   "cell_type": "code",
   "execution_count": 1,
   "metadata": {},
   "outputs": [],
   "source": [
    "import numpy as np\n",
    "import os\n",
    "import pandas as pd\n",
    "\n",
    "from matplotlib import pyplot as plt"
   ]
  },
  {
   "cell_type": "markdown",
   "metadata": {},
   "source": [
    "### Reading Ingredient(s) and list of Contradictions"
   ]
  },
  {
   "cell_type": "code",
   "execution_count": 2,
   "metadata": {},
   "outputs": [],
   "source": [
    "ingredients = [\"potato\", \"onion\", \"apple\"]\n",
    "\n",
    "cont_dir = \"contradictions.txt\"\n",
    "# contradictions = open(cont_dir, \"r\")\n",
    "# contradictions = contradictions.read().split('\\n')\n",
    "contradictions = pd.read_table(cont_dir, delimiter=\";\")"
   ]
  },
  {
   "cell_type": "code",
   "execution_count": 3,
   "metadata": {
    "scrolled": true
   },
   "outputs": [
    {
     "data": {
      "text/html": [
       "<div>\n",
       "<style scoped>\n",
       "    .dataframe tbody tr th:only-of-type {\n",
       "        vertical-align: middle;\n",
       "    }\n",
       "\n",
       "    .dataframe tbody tr th {\n",
       "        vertical-align: top;\n",
       "    }\n",
       "\n",
       "    .dataframe thead th {\n",
       "        text-align: right;\n",
       "    }\n",
       "</style>\n",
       "<table border=\"1\" class=\"dataframe\">\n",
       "  <thead>\n",
       "    <tr style=\"text-align: right;\">\n",
       "      <th></th>\n",
       "      <th>item1</th>\n",
       "      <th>item2</th>\n",
       "      <th>reason</th>\n",
       "    </tr>\n",
       "  </thead>\n",
       "  <tbody>\n",
       "    <tr>\n",
       "      <th>0</th>\n",
       "      <td>bean curd</td>\n",
       "      <td>honey</td>\n",
       "      <td>they can cause deaf</td>\n",
       "    </tr>\n",
       "    <tr>\n",
       "      <th>1</th>\n",
       "      <td>bean</td>\n",
       "      <td>cheese</td>\n",
       "      <td>Ayurveda's food theory</td>\n",
       "    </tr>\n",
       "    <tr>\n",
       "      <th>2</th>\n",
       "      <td>bean</td>\n",
       "      <td>egg</td>\n",
       "      <td>Ayurveda's food theory</td>\n",
       "    </tr>\n",
       "    <tr>\n",
       "      <th>3</th>\n",
       "      <td>bean</td>\n",
       "      <td>fish</td>\n",
       "      <td>Ayurveda's food theory</td>\n",
       "    </tr>\n",
       "    <tr>\n",
       "      <th>4</th>\n",
       "      <td>bean</td>\n",
       "      <td>fruit</td>\n",
       "      <td>Ayurveda's food theory</td>\n",
       "    </tr>\n",
       "    <tr>\n",
       "      <th>...</th>\n",
       "      <td>...</td>\n",
       "      <td>...</td>\n",
       "      <td>...</td>\n",
       "    </tr>\n",
       "    <tr>\n",
       "      <th>92</th>\n",
       "      <td>yogurt</td>\n",
       "      <td>fruit</td>\n",
       "      <td>Ayurveda's food theory</td>\n",
       "    </tr>\n",
       "    <tr>\n",
       "      <th>93</th>\n",
       "      <td>yogurt</td>\n",
       "      <td>hot drink</td>\n",
       "      <td>Ayurveda's food theory</td>\n",
       "    </tr>\n",
       "    <tr>\n",
       "      <th>94</th>\n",
       "      <td>yogurt</td>\n",
       "      <td>meat</td>\n",
       "      <td>Ayurveda's food theory</td>\n",
       "    </tr>\n",
       "    <tr>\n",
       "      <th>95</th>\n",
       "      <td>yogurt</td>\n",
       "      <td>potato</td>\n",
       "      <td>Ayurveda's food theory</td>\n",
       "    </tr>\n",
       "    <tr>\n",
       "      <th>96</th>\n",
       "      <td>yogurt</td>\n",
       "      <td>tomato</td>\n",
       "      <td>Ayurveda's food theory</td>\n",
       "    </tr>\n",
       "  </tbody>\n",
       "</table>\n",
       "<p>97 rows × 3 columns</p>\n",
       "</div>"
      ],
      "text/plain": [
       "        item1      item2                  reason\n",
       "0   bean curd      honey     they can cause deaf\n",
       "1        bean     cheese  Ayurveda's food theory\n",
       "2        bean        egg  Ayurveda's food theory\n",
       "3        bean       fish  Ayurveda's food theory\n",
       "4        bean      fruit  Ayurveda's food theory\n",
       "..        ...        ...                     ...\n",
       "92     yogurt      fruit  Ayurveda's food theory\n",
       "93     yogurt  hot drink  Ayurveda's food theory\n",
       "94     yogurt       meat  Ayurveda's food theory\n",
       "95     yogurt     potato  Ayurveda's food theory\n",
       "96     yogurt     tomato  Ayurveda's food theory\n",
       "\n",
       "[97 rows x 3 columns]"
      ]
     },
     "execution_count": 3,
     "metadata": {},
     "output_type": "execute_result"
    }
   ],
   "source": [
    "contradictions"
   ]
  },
  {
   "cell_type": "markdown",
   "metadata": {},
   "source": [
    "### Extract Respected Rows"
   ]
  },
  {
   "cell_type": "code",
   "execution_count": 4,
   "metadata": {},
   "outputs": [
    {
     "data": {
      "text/plain": [
       "(97, 3)"
      ]
     },
     "execution_count": 4,
     "metadata": {},
     "output_type": "execute_result"
    }
   ],
   "source": [
    "contradictions.shape"
   ]
  },
  {
   "cell_type": "code",
   "execution_count": 6,
   "metadata": {},
   "outputs": [
    {
     "name": "stdout",
     "output_type": "stream",
     "text": [
      "potato and banana are contradicting because of they can cause freckles\n",
      "potato and cucumber are contradicting because of Ayurveda's food theory\n",
      "potato and dairy product are contradicting because of Ayurveda's food theory\n",
      "potato and melon are contradicting because of Ayurveda's food theory\n",
      "yogurt and potato are contradicting because of Ayurveda's food theory\n",
      "onion and honey are contradicting because of they can damage vision\n"
     ]
    }
   ],
   "source": [
    "for ing in ingredients:\n",
    "    for i in range(contradictions.shape[0]):\n",
    "        itm1 = contradictions[\"item1\"][i]\n",
    "        itm2 = contradictions[\"item2\"][i]\n",
    "        if itm1 == ing or itm2 == ing:\n",
    "            r = contradictions[\"reason\"][i]\n",
    "            print(itm1 + \" and \" + itm2 + \" are contradicting because of \" + r)"
   ]
  }
 ],
 "metadata": {
  "kernelspec": {
   "display_name": "Python 3",
   "language": "python",
   "name": "python3"
  },
  "language_info": {
   "codemirror_mode": {
    "name": "ipython",
    "version": 3
   },
   "file_extension": ".py",
   "mimetype": "text/x-python",
   "name": "python",
   "nbconvert_exporter": "python",
   "pygments_lexer": "ipython3",
   "version": "3.7.4"
  }
 },
 "nbformat": 4,
 "nbformat_minor": 4
}

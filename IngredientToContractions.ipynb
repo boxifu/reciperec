{
 "cells": [
  {
   "cell_type": "markdown",
   "metadata": {},
   "source": [
    "### Imports"
   ]
  },
  {
   "cell_type": "code",
   "execution_count": 10,
   "metadata": {},
   "outputs": [],
   "source": [
    "import numpy as np\n",
    "import os\n",
    "import pandas as pd\n",
    "\n",
    "from matplotlib import pyplot as plt"
   ]
  },
  {
   "cell_type": "markdown",
   "metadata": {},
   "source": [
    "### Reading Ingredient(s) and list of Contradictions"
   ]
  },
  {
   "cell_type": "code",
   "execution_count": 22,
   "metadata": {},
   "outputs": [],
   "source": [
    "ingredients = [\"potato\", \"onion\", \"apple\"]\n",
    "\n",
    "cont_dir = \"contradictions.txt\"\n",
    "# contradictions = open(cont_dir, \"r\")\n",
    "# contradictions = contradictions.read().split('\\n')\n",
    "contradictions = pd.read_table(cont_dir, delimiter=\";\")\n",
    "\n",
    "fruits = pd.read_table(\"fruit.txt\").to_numpy().flatten()\n",
    "vegetables = pd.read_table(\"vegetable.txt\").to_numpy().flatten()"
   ]
  },
  {
   "cell_type": "code",
   "execution_count": 23,
   "metadata": {
    "scrolled": true
   },
   "outputs": [
    {
     "data": {
      "text/plain": [
       "array(['apple', 'banana', 'grapes', 'kiwi', 'lemon', 'mango', 'orange',\n",
       "       'pear', 'pineapple', 'pomegranate', 'watermelon'], dtype=object)"
      ]
     },
     "execution_count": 23,
     "metadata": {},
     "output_type": "execute_result"
    }
   ],
   "source": [
    "contradictions\n",
    "fruits"
   ]
  },
  {
   "cell_type": "markdown",
   "metadata": {},
   "source": [
    "### Extract Respective Rows"
   ]
  },
  {
   "cell_type": "code",
   "execution_count": 24,
   "metadata": {},
   "outputs": [
    {
     "data": {
      "text/plain": [
       "(97, 3)"
      ]
     },
     "execution_count": 24,
     "metadata": {},
     "output_type": "execute_result"
    }
   ],
   "source": [
    "contradictions.shape"
   ]
  },
  {
   "cell_type": "code",
   "execution_count": 25,
   "metadata": {},
   "outputs": [
    {
     "name": "stdout",
     "output_type": "stream",
     "text": [
      "potato and banana are contradicting because of they can cause freckles\n",
      "potato and cucumber are contradicting because of Ayurveda's food theory\n",
      "potato and dairy product are contradicting because of Ayurveda's food theory\n",
      "potato and melon are contradicting because of Ayurveda's food theory\n",
      "yogurt and potato are contradicting because of Ayurveda's food theory\n",
      "\n",
      "\n",
      "onion and honey are contradicting because of they can damage vision\n",
      "\n",
      "\n",
      "bean and fruit are contradicting because of Ayurveda's food theory\n",
      "carrot and fruit are contradicting because of they can reduce respective nutrients\n",
      "fruit and everything are contradicting because of Ayurveda's food theory\n",
      "grain and fruit are contradicting because of Ayurveda's food theory\n",
      "yogurt and fruit are contradicting because of Ayurveda's food theory\n",
      "\n",
      "\n"
     ]
    }
   ],
   "source": [
    "for ing in ingredients:\n",
    "    for i in range(contradictions.shape[0]):\n",
    "        itm1 = contradictions[\"item1\"][i]\n",
    "        itm2 = contradictions[\"item2\"][i]\n",
    "        if itm1 == ing or itm2 == ing or (ing in fruits and (itm1 == \"fruit\" or itm2 == \"fruit\")) or (ing in vegetables and (itm1 == \"vegetable\" or itm2 == \"vegetable\")):\n",
    "            r = contradictions[\"reason\"][i]\n",
    "            print(itm1 + \" and \" + itm2 + \" are contradicting because of \" + r)\n",
    "    print(\"\\n\")"
   ]
  }
 ],
 "metadata": {
  "kernelspec": {
   "display_name": "Python 3",
   "language": "python",
   "name": "python3"
  },
  "language_info": {
   "codemirror_mode": {
    "name": "ipython",
    "version": 3
   },
   "file_extension": ".py",
   "mimetype": "text/x-python",
   "name": "python",
   "nbconvert_exporter": "python",
   "pygments_lexer": "ipython3",
   "version": "3.7.4"
  }
 },
 "nbformat": 4,
 "nbformat_minor": 4
}

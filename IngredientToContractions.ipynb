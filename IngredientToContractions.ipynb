{
 "cells": [
  {
   "cell_type": "markdown",
   "metadata": {},
   "source": [
    "### Imports"
   ]
  },
  {
   "cell_type": "code",
   "execution_count": 48,
   "metadata": {},
   "outputs": [],
   "source": [
    "import numpy as np\n",
    "import os\n",
    "import pandas as pd\n",
    "\n",
    "from matplotlib import pyplot as plt"
   ]
  },
  {
   "cell_type": "markdown",
   "metadata": {},
   "source": [
    "### Reading Ingredient(s) and list of Contradictions"
   ]
  },
  {
   "cell_type": "code",
   "execution_count": 49,
   "metadata": {},
   "outputs": [],
   "source": [
    "ingredients = [\"potato\", \"onion\", \"celery\"]\n",
    "\n",
    "cont_dir = \"contradictions.txt\"\n",
    "# contradictions = open(cont_dir, \"r\")\n",
    "# contradictions = contradictions.read().split('\\n')\n",
    "contradictions = pd.read_table(cont_dir, delimiter=\";\")"
   ]
  },
  {
   "cell_type": "code",
   "execution_count": 50,
   "metadata": {
    "scrolled": true
   },
   "outputs": [
    {
     "data": {
      "text/html": [
       "<div>\n",
       "<style scoped>\n",
       "    .dataframe tbody tr th:only-of-type {\n",
       "        vertical-align: middle;\n",
       "    }\n",
       "\n",
       "    .dataframe tbody tr th {\n",
       "        vertical-align: top;\n",
       "    }\n",
       "\n",
       "    .dataframe thead th {\n",
       "        text-align: right;\n",
       "    }\n",
       "</style>\n",
       "<table border=\"1\" class=\"dataframe\">\n",
       "  <thead>\n",
       "    <tr style=\"text-align: right;\">\n",
       "      <th></th>\n",
       "      <th>item1</th>\n",
       "      <th>item2</th>\n",
       "      <th>reason</th>\n",
       "    </tr>\n",
       "  </thead>\n",
       "  <tbody>\n",
       "    <tr>\n",
       "      <th>0</th>\n",
       "      <td>potato</td>\n",
       "      <td>banana</td>\n",
       "      <td>freckles</td>\n",
       "    </tr>\n",
       "    <tr>\n",
       "      <th>1</th>\n",
       "      <td>sweetpotato</td>\n",
       "      <td>persimmon</td>\n",
       "      <td>lithiasis</td>\n",
       "    </tr>\n",
       "    <tr>\n",
       "      <th>2</th>\n",
       "      <td>pork</td>\n",
       "      <td>water chestnuts</td>\n",
       "      <td>stomach ache</td>\n",
       "    </tr>\n",
       "    <tr>\n",
       "      <th>3</th>\n",
       "      <td>beef</td>\n",
       "      <td>chestnuts</td>\n",
       "      <td>vomiting</td>\n",
       "    </tr>\n",
       "    <tr>\n",
       "      <th>4</th>\n",
       "      <td>lamb</td>\n",
       "      <td>watermelon</td>\n",
       "      <td>decreased vigor for life</td>\n",
       "    </tr>\n",
       "    <tr>\n",
       "      <th>5</th>\n",
       "      <td>dog</td>\n",
       "      <td>green bean</td>\n",
       "      <td>poisonous</td>\n",
       "    </tr>\n",
       "    <tr>\n",
       "      <th>6</th>\n",
       "      <td>rabbit</td>\n",
       "      <td>celery</td>\n",
       "      <td>loss of hair</td>\n",
       "    </tr>\n",
       "    <tr>\n",
       "      <th>7</th>\n",
       "      <td>chicken</td>\n",
       "      <td>celery</td>\n",
       "      <td>decreased vigor for life</td>\n",
       "    </tr>\n",
       "    <tr>\n",
       "      <th>8</th>\n",
       "      <td>goose</td>\n",
       "      <td>chicken egg</td>\n",
       "      <td>decreased vigor for life</td>\n",
       "    </tr>\n",
       "    <tr>\n",
       "      <th>9</th>\n",
       "      <td>turtle</td>\n",
       "      <td>amaranth</td>\n",
       "      <td>poisonous</td>\n",
       "    </tr>\n",
       "    <tr>\n",
       "      <th>10</th>\n",
       "      <td>carp</td>\n",
       "      <td>liquorice</td>\n",
       "      <td>poisonous</td>\n",
       "    </tr>\n",
       "    <tr>\n",
       "      <th>11</th>\n",
       "      <td>crab</td>\n",
       "      <td>persimmon</td>\n",
       "      <td>diarrhea</td>\n",
       "    </tr>\n",
       "    <tr>\n",
       "      <th>12</th>\n",
       "      <td>chicken egg</td>\n",
       "      <td>saccharin</td>\n",
       "      <td>poisonous</td>\n",
       "    </tr>\n",
       "    <tr>\n",
       "      <th>13</th>\n",
       "      <td>brown sugar</td>\n",
       "      <td>preserved egg</td>\n",
       "      <td>poisonous</td>\n",
       "    </tr>\n",
       "    <tr>\n",
       "      <th>14</th>\n",
       "      <td>white wine</td>\n",
       "      <td>persimmon</td>\n",
       "      <td>chest pain</td>\n",
       "    </tr>\n",
       "    <tr>\n",
       "      <th>15</th>\n",
       "      <td>onion</td>\n",
       "      <td>honey</td>\n",
       "      <td>damaged vision</td>\n",
       "    </tr>\n",
       "    <tr>\n",
       "      <th>16</th>\n",
       "      <td>radish</td>\n",
       "      <td>fungus</td>\n",
       "      <td>dermatitis</td>\n",
       "    </tr>\n",
       "    <tr>\n",
       "      <th>17</th>\n",
       "      <td>bean curd</td>\n",
       "      <td>honey</td>\n",
       "      <td>deaf</td>\n",
       "    </tr>\n",
       "    <tr>\n",
       "      <th>18</th>\n",
       "      <td>peanut</td>\n",
       "      <td>cucumber</td>\n",
       "      <td>unknown</td>\n",
       "    </tr>\n",
       "  </tbody>\n",
       "</table>\n",
       "</div>"
      ],
      "text/plain": [
       "          item1            item2                    reason\n",
       "0        potato           banana                  freckles\n",
       "1   sweetpotato        persimmon                 lithiasis\n",
       "2          pork  water chestnuts              stomach ache\n",
       "3          beef        chestnuts                  vomiting\n",
       "4          lamb       watermelon  decreased vigor for life\n",
       "5           dog       green bean                 poisonous\n",
       "6        rabbit           celery              loss of hair\n",
       "7       chicken           celery  decreased vigor for life\n",
       "8         goose      chicken egg  decreased vigor for life\n",
       "9        turtle         amaranth                 poisonous\n",
       "10         carp        liquorice                 poisonous\n",
       "11         crab        persimmon                  diarrhea\n",
       "12  chicken egg        saccharin                 poisonous\n",
       "13  brown sugar    preserved egg                 poisonous\n",
       "14   white wine        persimmon                chest pain\n",
       "15        onion            honey            damaged vision\n",
       "16       radish           fungus                dermatitis\n",
       "17    bean curd            honey                      deaf\n",
       "18       peanut         cucumber                   unknown"
      ]
     },
     "execution_count": 50,
     "metadata": {},
     "output_type": "execute_result"
    }
   ],
   "source": [
    "contradictions"
   ]
  },
  {
   "cell_type": "markdown",
   "metadata": {},
   "source": [
    "### Extract Respected Rows"
   ]
  },
  {
   "cell_type": "code",
   "execution_count": 51,
   "metadata": {},
   "outputs": [
    {
     "data": {
      "text/plain": [
       "(19, 3)"
      ]
     },
     "execution_count": 51,
     "metadata": {},
     "output_type": "execute_result"
    }
   ],
   "source": [
    "contradictions.shape"
   ]
  },
  {
   "cell_type": "code",
   "execution_count": 52,
   "metadata": {},
   "outputs": [
    {
     "name": "stdout",
     "output_type": "stream",
     "text": [
      "potato and banana are contradicting and can cause freckles\n",
      "onion and honey are contradicting and can cause damaged vision\n",
      "rabbit and celery are contradicting and can cause loss of hair\n",
      "chicken and celery are contradicting and can cause decreased vigor for life\n"
     ]
    }
   ],
   "source": [
    "for ing in ingredients:\n",
    "    for i in range(contradictions.shape[0]):\n",
    "        itm1 = contradictions[\"item1\"][i]\n",
    "        itm2 = contradictions[\"item2\"][i]\n",
    "        if itm1 == ing or itm2 == ing:\n",
    "            r = contradictions[\"reason\"][i]\n",
    "            print(itm1 + \" and \" + itm2 + \" are contradicting and can cause \" + r)"
   ]
  }
 ],
 "metadata": {
  "kernelspec": {
   "display_name": "Python 3",
   "language": "python",
   "name": "python3"
  },
  "language_info": {
   "codemirror_mode": {
    "name": "ipython",
    "version": 3
   },
   "file_extension": ".py",
   "mimetype": "text/x-python",
   "name": "python",
   "nbconvert_exporter": "python",
   "pygments_lexer": "ipython3",
   "version": "3.7.4"
  }
 },
 "nbformat": 4,
 "nbformat_minor": 4
}
